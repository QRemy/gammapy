{
 "cells": [
  {
   "cell_type": "markdown",
   "metadata": {},
   "source": [
    "# Fitting and error estimation with MCMC\n",
    "\n",
    "## Introduction\n",
    "\n",
    "The goal of Markov Chain Monte Carlo (MCMC) algorithms is to approximate the posterior distribution of your model parameters by random sampling in a probabilistic space. For most readers this sentence was probably not very helpful so here we'll start straight with and example but you should read the more detailed mathematical approaches of the method [here](https://www.pas.rochester.edu/~sybenzvi/courses/phy403/2015s/p403_17_mcmc.pdf) and [here](https://github.com/jakevdp/BayesianAstronomy/blob/master/03-Bayesian-Modeling-With-MCMC.ipynb).\n",
    "\n",
    "### How does it work ?\n",
    "\n",
    "The idea is that we use a number of walkers that will sample the posterior distribution (i.e. sample the Likelihood profile).\n",
    "\n",
    "The goal is to produce a \"chain\", i.e. a list of $\\theta$ values, where each $\\theta$ is a vector of parameters for your model.<br>\n",
    "If you start far away from the truth value, the chain will take some time to converge until it reaches a stationary state. Once it has reached this stage, each successive elements of the chain are samples of the target posterior distribution.<br>\n",
    "This means that, once we have obtained the chain of samples, we have everything we need. We can compute the  distribution of each parameter by simply approximating it with the histogram of the samples projected into the parameter space. This will provide the errors and correlations between parameters.\n",
    "\n",
    "\n",
    "Now let's try to put a picture on the ideas described above. With this notebook, we have simulated and carried out a MCMC analysis for a source with the following parameters:<br>\n",
    "$Index=2.0$, $Norm=5\\times10^{-12}$ cm$^{-2}$ s$^{-1}$ TeV$^{-1}$, $Lambda =(1/Ecut) = 0.02$ TeV$^{-1}$ (50 TeV) for 20 hours.\n",
    "\n",
    "The results that you can get from a MCMC analysis will look like this :\n",
    "\n",
    "<img src=\"images/gammapy_mcmc.png\" width=\"800\">\n",
    "\n",
    "On the first two top panels, we show the pseudo-random walk of one walker from an offset starting value to see it evolve to a better solution.\n",
    "In the bottom right panel, we show the trace of each 16 walkers for 500 runs (the chain described previsouly). For the first 100 runs, the parameter evolve towards a solution (can be viewed as a fitting step). Then they explore the local minimum for 400 runs which will be used to estimate the parameters correlations and errors.\n",
    "The choice of the Nburn value (when walkers have reached a stationary stage) can be done by eye but you can also look at the autocorrelation time.\n",
    "\n",
    "### Why should I use it ?\n",
    "\n",
    "When it comes to evaluate errors and investigate parameter correlation, one typically estimate the Likelihood in a gridded search (2D Likelihood profiles). Each point of the grid implies a new model fitting. If we use 10 steps for each parameters, we will need to carry out 100 fitting procedures. \n",
    "\n",
    "Now let's say that I have a model with $N$ parameters, we need to carry out that gridded analysis $N*(N-1)$ times. \n",
    "So for 5 free parameters you need 20 gridded search, resulting in 2000 individual fit. \n",
    "Clearly this strategy doesn't scale well to high-dimensional models.\n",
    "\n",
    "Just for fun: if each fit procedure takes 10s, we're talking about 5h of computing time to estimate the correlation plots. \n",
    "\n",
    "There are many MCMC packages in the python ecosystem but here we will focus on [emcee](https://emcee.readthedocs.io), a lightweight Python package. A description is provided here : [Foreman-Mackey, Hogg, Lang & Goodman (2012)](https://arxiv.org/abs/1202.3665)."
   ]
  },
  {
   "cell_type": "code",
   "execution_count": 1,
   "metadata": {},
   "outputs": [],
   "source": [
    "%matplotlib inline\n",
    "import matplotlib.pyplot as plt"
   ]
  },
  {
   "cell_type": "code",
   "execution_count": 2,
   "metadata": {},
   "outputs": [],
   "source": [
    "import numpy as np\n",
    "import astropy.units as u\n",
    "from astropy.coordinates import SkyCoord\n",
    "from gammapy.irf import load_cta_irfs\n",
    "from gammapy.maps import WcsGeom, MapAxis\n",
    "from gammapy.modeling.models import (\n",
    "    ExpCutoffPowerLawSpectralModel,\n",
    "    GaussianSpatialModel,\n",
    "    SkyModel,\n",
    ")\n",
    "from gammapy.datasets import MapDataset\n",
    "from gammapy.makers import MapDatasetMaker\n",
    "from gammapy.data import Observation\n",
    "from gammapy.modeling.sampling import (\n",
    "    run_mcmc,\n",
    "    par_to_model,\n",
    "    plot_corner,\n",
    "    plot_trace,\n",
    ")"
   ]
  },
  {
   "cell_type": "code",
   "execution_count": 3,
   "metadata": {},
   "outputs": [],
   "source": [
    "import logging\n",
    "\n",
    "logging.basicConfig(level=logging.INFO)"
   ]
  },
  {
   "cell_type": "markdown",
   "metadata": {},
   "source": [
    "## Simulate an observation\n",
    "\n",
    "Here we will start by simulating an observation using the `simulate_dataset` method."
   ]
  },
  {
   "cell_type": "code",
   "execution_count": 4,
   "metadata": {},
   "outputs": [
    {
     "name": "stderr",
     "output_type": "stream",
     "text": [
      "WARNING:gammapy.irf.background:Invalid unit found in background table! Assuming (s-1 MeV-1 sr-1)\n"
     ]
    }
   ],
   "source": [
    "irfs = load_cta_irfs(\n",
    "    \"$GAMMAPY_DATA/cta-1dc/caldb/data/cta/1dc/bcf/South_z20_50h/irf_file.fits\"\n",
    ")\n",
    "\n",
    "observation = Observation.create(\n",
    "    pointing=SkyCoord(0 * u.deg, 0 * u.deg, frame=\"galactic\"),\n",
    "    livetime=20 * u.h,\n",
    "    irfs=irfs,\n",
    ")"
   ]
  },
  {
   "cell_type": "code",
   "execution_count": 18,
   "metadata": {},
   "outputs": [
    {
     "name": "stdout",
     "output_type": "stream",
     "text": [
      "SkyModel\n",
      "\n",
      "  Name                      : source\n",
      "  Datasets names            : None\n",
      "  Spectral model type       : ExpCutoffPowerLawSpectralModel\n",
      "  Spatial  model type       : GaussianSpatialModel\n",
      "  Temporal model type       : None\n",
      "  Parameters:\n",
      "    index                   :   2.000              \n",
      "    amplitude               :   3.00e-12  1 / (cm2 s TeV)\n",
      "    reference    (frozen)   :   1.000  TeV         \n",
      "    lambda_                 :   0.050  1 / TeV     \n",
      "    alpha        (frozen)   :   1.000              \n",
      "    lon_0        (frozen)   :   0.000  deg         \n",
      "    lat_0        (frozen)   :   0.000  deg         \n",
      "    sigma        (frozen)   :   0.200  deg         \n",
      "    e            (frozen)   :   0.000              \n",
      "    phi          (frozen)   :   0.000  deg         \n",
      "\n",
      "\n"
     ]
    }
   ],
   "source": [
    "# Define sky model to simulate the data\n",
    "spatial_model = GaussianSpatialModel(\n",
    "    lon_0=\"0 deg\", lat_0=\"0 deg\", sigma=\"0.2 deg\", frame=\"galactic\"\n",
    ")\n",
    "spectral_model = ExpCutoffPowerLawSpectralModel(\n",
    "    index=2,\n",
    "    amplitude=\"3e-12 cm-2 s-1 TeV-1\",\n",
    "    reference=\"1 TeV\",\n",
    "    lambda_=\"0.05 TeV-1\",\n",
    ")\n",
    "\n",
    "sky_model_simu = SkyModel(\n",
    "    spatial_model=spatial_model, spectral_model=spectral_model, name=\"source\"\n",
    ")\n",
    "print(sky_model_simu)\n"
   ]
  },
  {
   "cell_type": "code",
   "execution_count": 6,
   "metadata": {},
   "outputs": [],
   "source": [
    "# Define map geometry\n",
    "axis = MapAxis.from_edges(\n",
    "    np.logspace(-1, 2, 30), unit=\"TeV\", name=\"energy\", interp=\"log\"\n",
    ")\n",
    "geom = WcsGeom.create(\n",
    "    skydir=(0, 0), binsz=0.05, width=(2, 2), frame=\"galactic\", axes=[axis]\n",
    ")\n",
    "\n",
    "empty_dataset = MapDataset.create(geom=geom, name=\"dataset-mcmc\")\n",
    "maker = MapDatasetMaker(selection=[\"background\", \"edisp\", \"psf\", \"exposure\"])\n",
    "dataset = maker.run(empty_dataset, observation)\n",
    "dataset.models.append(sky_model_simu)\n",
    "dataset.fake()"
   ]
  },
  {
   "cell_type": "code",
   "execution_count": 7,
   "metadata": {},
   "outputs": [
    {
     "data": {
      "image/png": "[encoded data removed]",
      "text/plain": [
       "<Figure size 432x288 with 2 Axes>"
      ]
     },
     "metadata": {
      "needs_background": "light"
     },
     "output_type": "display_data"
    }
   ],
   "source": [
    "dataset.counts.sum_over_axes().plot(add_cbar=True);"
   ]
  },
  {
   "cell_type": "code",
   "execution_count": 8,
   "metadata": {},
   "outputs": [],
   "source": [
    "# If you want to fit the data for comparison with MCMC later\n",
    "\n",
    "# fit = Fit(dataset)\n",
    "# result = fit.run(optimize_opts={\"print_level\": 1})"
   ]
  },
  {
   "cell_type": "markdown",
   "metadata": {},
   "source": [
    "## Estimate parameter correlations with MCMC\n",
    "\n",
    "Now let's analyse the simulated data.\n",
    "Here we just fit it again with the same model we had before as a starting point.\n",
    "The data that would be needed are the following: \n",
    "- counts cube, psf cube, exposure cube and background model\n",
    "\n",
    "Luckily all those maps are already in the Dataset object.\n",
    "\n",
    "We will need to define a Likelihood function and define priors on parameters.<br>\n",
    "Here we will assume a uniform prior reading the min, max parameters from the sky model."
   ]
  },
  {
   "cell_type": "markdown",
   "metadata": {},
   "source": [
    "### Define priors\n",
    "\n",
    "This steps is a bit manual for the moment until we find a better API to define priors.<br>\n",
    "Note the you **need** to define priors for each parameter otherwise your walkers can explore uncharted territories (e.g. negative norms)."
   ]
  },
  {
   "cell_type": "code",
   "execution_count": 9,
   "metadata": {},
   "outputs": [
    {
     "name": "stdout",
     "output_type": "stream",
     "text": [
      "MapDataset\n",
      "----------\n",
      "\n",
      "  Name                            : dataset-mcmc \n",
      "\n",
      "  Total counts                    : 247566 \n",
      "  Total predicted counts          : 247649.00\n",
      "  Total background counts         : 238665.45\n",
      "\n",
      "  Exposure min                    : 9.42e+09 m2 s\n",
      "  Exposure max                    : 3.67e+11 m2 s\n",
      "\n",
      "  Number of total bins            : 46400 \n",
      "  Number of fit bins              : 46400 \n",
      "\n",
      "  Fit statistic type              : cash\n",
      "  Fit statistic value (-2 log(L)) : -938958.09\n",
      "\n",
      "  Number of models                : 2 \n",
      "  Number of parameters            : 16\n",
      "  Number of free parameters       : 7\n",
      "\n",
      "  Component 0: BackgroundModel\n",
      "  \n",
      "    Name                      : dataset-mcmc-bkg\n",
      "    Datasets names            : ['dataset-mcmc']\n",
      "    Parameters:\n",
      "      norm                    :   1.000              \n",
      "      tilt         (frozen)   :   0.000              \n",
      "      reference    (frozen)   :   1.000  TeV         \n",
      "      lambda_      (frozen)   :   0.000  1 / TeV     \n",
      "      alpha        (frozen)   :   1.000              \n",
      "      beta         (frozen)   :   0.000              \n",
      "  \n",
      "  Component 1: SkyModel\n",
      "  \n",
      "    Name                      : source\n",
      "    Datasets names            : None\n",
      "    Spectral model type       : ExpCutoffPowerLawSpectralModel\n",
      "    Spatial  model type       : GaussianSpatialModel\n",
      "    Temporal model type       : None\n",
      "    Parameters:\n",
      "      index                   :   2.000              \n",
      "      amplitude               :   3.00e-12  1 / (cm2 s TeV)\n",
      "      reference    (frozen)   :   1.000  TeV         \n",
      "      lambda_                 :   0.050  1 / TeV     \n",
      "      alpha        (frozen)   :   1.000              \n",
      "      lon_0                   :   0.000  deg         \n",
      "      lat_0                   :   0.000  deg         \n",
      "      sigma                   :   0.200  deg         \n",
      "      e            (frozen)   :   0.000              \n",
      "      phi          (frozen)   :   0.000  deg         \n",
      "  \n",
      "  \n"
     ]
    }
   ],
   "source": [
    "print(dataset)"
   ]
  },
  {
   "cell_type": "code",
   "execution_count": 10,
   "metadata": {},
   "outputs": [
    {
     "name": "stdout",
     "output_type": "stream",
     "text": [
      "ProperModels\n",
      "\n",
      "Component 0: BackgroundModel\n",
      "\n",
      "  Name                      : dataset-mcmc-bkg\n",
      "  Datasets names            : ['dataset-mcmc']\n",
      "  Parameters:\n",
      "    norm         (frozen)   :   1.000              \n",
      "    tilt         (frozen)   :   0.000              \n",
      "    reference    (frozen)   :   1.000  TeV         \n",
      "    lambda_                 :   0.050  1 / TeV     \n",
      "    alpha        (frozen)   :   1.000              \n",
      "    beta         (frozen)   :   0.000              \n",
      "\n",
      "Component 1: SkyModel\n",
      "\n",
      "  Name                      : source\n",
      "  Datasets names            : None\n",
      "  Spectral model type       : ExpCutoffPowerLawSpectralModel\n",
      "  Spatial  model type       : GaussianSpatialModel\n",
      "  Temporal model type       : None\n",
      "  Parameters:\n",
      "    index                   :   2.000              \n",
      "    amplitude               :   3.20e-12  1 / (cm2 s TeV)\n",
      "    reference    (frozen)   :   1.000  TeV         \n",
      "    lambda_                 :   0.050  1 / TeV     \n",
      "    alpha        (frozen)   :   1.000              \n",
      "    lon_0        (frozen)   :   0.000  deg         \n",
      "    lat_0        (frozen)   :   0.000  deg         \n",
      "    sigma        (frozen)   :   0.200  deg         \n",
      "    e            (frozen)   :   0.000              \n",
      "    phi          (frozen)   :   0.000  deg         \n",
      "\n",
      "\n",
      "stat = -938545.7260836291\n"
     ]
    }
   ],
   "source": [
    "# Define the min, max and frozen parameters \n",
    "dataset.background_model.parameters.freeze_all()\n",
    "spatial_model.parameters.freeze_all()\n",
    "\n",
    "spectral_model.amplitude.min = 0.01 * spectral_model.amplitude.value\n",
    "spectral_model.amplitude.max = 100 * spectral_model.amplitude.value\n",
    "spectral_model.index.min = 1\n",
    "spectral_model.index.max = 5\n",
    "spectral_model.lambda_.min = 1e-3\n",
    "spectral_model.lambda_.max = 1\n",
    "\n",
    "# Setting amplitude init values a bit offset to see evolution\n",
    "# Here starting close to the real value\n",
    "spectral_model.amplitude.value = 3.2e-12\n",
    "spectral_model.index.value = 2.0\n",
    "spectral_model.lambda_.value = 0.05\n",
    "\n",
    "print(dataset.models)\n",
    "print(\"stat =\", dataset.stat_sum())"
   ]
  },
  {
   "cell_type": "code",
   "execution_count": 13,
   "metadata": {},
   "outputs": [
    {
     "name": "stderr",
     "output_type": "stream",
     "text": [
      "WARNING:gammapy.modeling.sampling:Missing prior for parameter: lambda_.\n",
      "MCMC will likely fail!\n",
      "INFO:gammapy.modeling.sampling:Free parameters: ['lambda_', 'index', 'amplitude', 'lambda_']\n",
      "INFO:gammapy.modeling.sampling:Starting MCMC sampling: nwalkers=8, nrun=150\n",
      "/anaconda3/envs/gpy-dev/lib/python3.7/site-packages/emcee/ensemble.py:335: RuntimeWarning: invalid value encountered in subtract\n",
      "  lnpdiff = (self.dim - 1.) * np.log(zz) + newlnprob - lnprob0\n",
      "/anaconda3/envs/gpy-dev/lib/python3.7/site-packages/emcee/ensemble.py:336: RuntimeWarning: invalid value encountered in greater\n",
      "  accept = (lnpdiff > np.log(self._random.rand(len(lnpdiff))))\n",
      "INFO:gammapy.modeling.sampling:   0%\n",
      "INFO:gammapy.modeling.sampling:  50%\n",
      "INFO:gammapy.modeling.sampling:100% => sampling completed\n"
     ]
    },
    {
     "name": "stdout",
     "output_type": "stream",
     "text": [
      "CPU times: user 34.1 s, sys: 495 ms, total: 34.6 s\n",
      "Wall time: 35.2 s\n"
     ]
    }
   ],
   "source": [
    "%%time\n",
    "# Now let's define a function to init parameters and run the MCMC with emcee\n",
    "# Depending on your number of walkers, Nrun and dimensionality, this can take a while (> minutes)\n",
    "sampler = run_mcmc(dataset, nwalkers=6, nrun=150)  # to speedup the notebook\n",
    "# sampler=run_mcmc(dataset,nwalkers=12,nrun=1000) # more accurate contours"
   ]
  },
  {
   "cell_type": "markdown",
   "metadata": {},
   "source": [
    "## Plot the results\n",
    "\n",
    "The MCMC will return a sampler object containing the trace of all walkers.<br>\n",
    "The most important part is the chain attribute which is an array of shape:<br>\n",
    "_(nwalkers, nrun, nfreeparam)_\n",
    "\n",
    "The chain is then used to plot the trace of the walkers and estimate the burnin period (the time for the walkers to reach a stationary stage)."
   ]
  },
  {
   "cell_type": "code",
   "execution_count": 12,
   "metadata": {
    "scrolled": true
   },
   "outputs": [
    {
     "ename": "NameError",
     "evalue": "name 'sampler' is not defined",
     "output_type": "error",
     "traceback": [
      "\u001b[0;31m---------------------------------------------------------------------------\u001b[0m",
      "\u001b[0;31mNameError\u001b[0m                                 Traceback (most recent call last)",
      "\u001b[0;32m<ipython-input-12-193135234a28>\u001b[0m in \u001b[0;36m<module>\u001b[0;34m\u001b[0m\n\u001b[0;32m----> 1\u001b[0;31m \u001b[0mplot_trace\u001b[0m\u001b[0;34m(\u001b[0m\u001b[0msampler\u001b[0m\u001b[0;34m,\u001b[0m \u001b[0mdataset\u001b[0m\u001b[0;34m)\u001b[0m\u001b[0;34m\u001b[0m\u001b[0;34m\u001b[0m\u001b[0m\n\u001b[0m",
      "\u001b[0;31mNameError\u001b[0m: name 'sampler' is not defined"
     ]
    }
   ],
   "source": [
    "plot_trace(sampler, dataset)"
   ]
  },
  {
   "cell_type": "code",
   "execution_count": null,
   "metadata": {},
   "outputs": [],
   "source": [
    "plot_corner(sampler, dataset, nburn=50)"
   ]
  },
  {
   "cell_type": "markdown",
   "metadata": {},
   "source": [
    "## Plot the model dispersion\n",
    "\n",
    "Using the samples from the chain after the burn period, we can plot the different models compared to the truth model. To do this we need to the spectral models for each parameter state in the sample."
   ]
  },
  {
   "cell_type": "code",
   "execution_count": null,
   "metadata": {},
   "outputs": [],
   "source": [
    "emin, emax = [0.1, 100] * u.TeV\n",
    "nburn = 50\n",
    "\n",
    "fig, ax = plt.subplots(1, 1, figsize=(12, 6))\n",
    "\n",
    "for nwalk in range(0, 6):\n",
    "    for n in range(nburn, nburn + 100):\n",
    "        pars = sampler.chain[nwalk, n, :]\n",
    "\n",
    "        # set model parameters\n",
    "        par_to_model(dataset, pars)\n",
    "        spectral_model = dataset.models[\"source\"].spectral_model\n",
    "\n",
    "        spectral_model.plot(\n",
    "            energy_range=(emin, emax),\n",
    "            ax=ax,\n",
    "            energy_power=2,\n",
    "            alpha=0.02,\n",
    "            color=\"grey\",\n",
    "        )\n",
    "\n",
    "\n",
    "sky_model_simu.spectral_model.plot(\n",
    "    energy_range=(emin, emax), energy_power=2, ax=ax, color=\"red\"\n",
    ");"
   ]
  },
  {
   "cell_type": "markdown",
   "metadata": {},
   "source": [
    "## Fun Zone\n",
    "\n",
    "Now that you have the sampler chain, you have in your hands the entire history of each walkers in the N-Dimensional parameter space. <br>\n",
    "You can for example trace the steps of each walker in any parameter space."
   ]
  },
  {
   "cell_type": "code",
   "execution_count": null,
   "metadata": {},
   "outputs": [],
   "source": [
    "# Here we plot the trace of one walker in a given parameter space\n",
    "parx, pary = 0, 1\n",
    "\n",
    "plt.plot(sampler.chain[0, :, parx], sampler.chain[0, :, pary], \"ko\", ms=1)\n",
    "plt.plot(\n",
    "    sampler.chain[0, :, parx],\n",
    "    sampler.chain[0, :, pary],\n",
    "    ls=\":\",\n",
    "    color=\"grey\",\n",
    "    alpha=0.5,\n",
    ")\n",
    "\n",
    "plt.xlabel(\"Index\")\n",
    "plt.ylabel(\"Amplitude\");"
   ]
  },
  {
   "cell_type": "markdown",
   "metadata": {},
   "source": [
    "## PeVatrons in CTA ?\n",
    "\n",
    "Now it's your turn to play with this MCMC notebook. For example to test the CTA performance to measure a cutoff at very high energies (100 TeV ?).\n",
    "\n",
    "After defining your Skymodel it can be as simple as this :"
   ]
  },
  {
   "cell_type": "code",
   "execution_count": null,
   "metadata": {},
   "outputs": [],
   "source": [
    "# dataset = simulate_dataset(model, geom, pointing, irfs)\n",
    "# sampler = run_mcmc(dataset)\n",
    "# plot_trace(sampler, dataset)\n",
    "# plot_corner(sampler, dataset, nburn=200)"
   ]
  }
 ],
 "metadata": {
  "kernelspec": {
   "display_name": "Python 3",
   "language": "python",
   "name": "python3"
  },
  "language_info": {
   "codemirror_mode": {
    "name": "ipython",
    "version": 3
   },
   "file_extension": ".py",
   "mimetype": "text/x-python",
   "name": "python",
   "nbconvert_exporter": "python",
   "pygments_lexer": "ipython3",
   "version": "3.7.3"
  }
 },
 "nbformat": 4,
 "nbformat_minor": 4
}
